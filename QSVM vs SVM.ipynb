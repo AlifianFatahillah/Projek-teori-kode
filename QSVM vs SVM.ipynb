{
 "cells": [
  {
   "cell_type": "code",
   "execution_count": 1,
   "metadata": {},
   "outputs": [],
   "source": [
    "from qiskit import Aer\n",
    "from qiskit.circuit.library import ZZFeatureMap\n",
    "from qiskit.utils import QuantumInstance\n",
    "from qiskit_machine_learning.algorithms.classifiers import VQC\n",
    "from qiskit_machine_learning.kernels import QuantumKernel\n",
    "from sklearn.preprocessing import StandardScaler, LabelEncoder\n",
    "from sklearn.model_selection import train_test_split\n",
    "import numpy as np\n",
    "import pandas as pd"
   ]
  },
  {
   "cell_type": "code",
   "execution_count": 2,
   "metadata": {},
   "outputs": [
    {
     "data": {
      "text/html": [
       "<div>\n",
       "<style scoped>\n",
       "    .dataframe tbody tr th:only-of-type {\n",
       "        vertical-align: middle;\n",
       "    }\n",
       "\n",
       "    .dataframe tbody tr th {\n",
       "        vertical-align: top;\n",
       "    }\n",
       "\n",
       "    .dataframe thead th {\n",
       "        text-align: right;\n",
       "    }\n",
       "</style>\n",
       "<table border=\"1\" class=\"dataframe\">\n",
       "  <thead>\n",
       "    <tr style=\"text-align: right;\">\n",
       "      <th></th>\n",
       "      <th>Gender</th>\n",
       "      <th>AGE</th>\n",
       "      <th>Urea</th>\n",
       "      <th>Cr</th>\n",
       "      <th>HbA1c</th>\n",
       "      <th>Chol</th>\n",
       "      <th>TG</th>\n",
       "      <th>HDL</th>\n",
       "      <th>LDL</th>\n",
       "      <th>VLDL</th>\n",
       "      <th>BMI</th>\n",
       "      <th>CLASS</th>\n",
       "    </tr>\n",
       "  </thead>\n",
       "  <tbody>\n",
       "    <tr>\n",
       "      <th>0</th>\n",
       "      <td>F</td>\n",
       "      <td>50.0</td>\n",
       "      <td>4.700000</td>\n",
       "      <td>46.0</td>\n",
       "      <td>4.900000</td>\n",
       "      <td>4.2</td>\n",
       "      <td>0.9</td>\n",
       "      <td>2.4</td>\n",
       "      <td>1.4</td>\n",
       "      <td>0.500000</td>\n",
       "      <td>24.0</td>\n",
       "      <td>N</td>\n",
       "    </tr>\n",
       "    <tr>\n",
       "      <th>1</th>\n",
       "      <td>M</td>\n",
       "      <td>26.0</td>\n",
       "      <td>4.500000</td>\n",
       "      <td>62.0</td>\n",
       "      <td>4.900000</td>\n",
       "      <td>3.7</td>\n",
       "      <td>1.4</td>\n",
       "      <td>1.1</td>\n",
       "      <td>2.1</td>\n",
       "      <td>0.600000</td>\n",
       "      <td>23.0</td>\n",
       "      <td>N</td>\n",
       "    </tr>\n",
       "    <tr>\n",
       "      <th>2</th>\n",
       "      <td>F</td>\n",
       "      <td>50.0</td>\n",
       "      <td>4.700000</td>\n",
       "      <td>46.0</td>\n",
       "      <td>4.900000</td>\n",
       "      <td>4.2</td>\n",
       "      <td>0.9</td>\n",
       "      <td>2.4</td>\n",
       "      <td>1.4</td>\n",
       "      <td>0.500000</td>\n",
       "      <td>24.0</td>\n",
       "      <td>N</td>\n",
       "    </tr>\n",
       "    <tr>\n",
       "      <th>3</th>\n",
       "      <td>F</td>\n",
       "      <td>50.0</td>\n",
       "      <td>4.700000</td>\n",
       "      <td>46.0</td>\n",
       "      <td>4.900000</td>\n",
       "      <td>4.2</td>\n",
       "      <td>0.9</td>\n",
       "      <td>2.4</td>\n",
       "      <td>1.4</td>\n",
       "      <td>0.500000</td>\n",
       "      <td>24.0</td>\n",
       "      <td>N</td>\n",
       "    </tr>\n",
       "    <tr>\n",
       "      <th>4</th>\n",
       "      <td>M</td>\n",
       "      <td>33.0</td>\n",
       "      <td>7.100000</td>\n",
       "      <td>46.0</td>\n",
       "      <td>4.900000</td>\n",
       "      <td>4.9</td>\n",
       "      <td>1.0</td>\n",
       "      <td>0.8</td>\n",
       "      <td>2.0</td>\n",
       "      <td>0.400000</td>\n",
       "      <td>21.0</td>\n",
       "      <td>N</td>\n",
       "    </tr>\n",
       "    <tr>\n",
       "      <th>...</th>\n",
       "      <td>...</td>\n",
       "      <td>...</td>\n",
       "      <td>...</td>\n",
       "      <td>...</td>\n",
       "      <td>...</td>\n",
       "      <td>...</td>\n",
       "      <td>...</td>\n",
       "      <td>...</td>\n",
       "      <td>...</td>\n",
       "      <td>...</td>\n",
       "      <td>...</td>\n",
       "      <td>...</td>\n",
       "    </tr>\n",
       "    <tr>\n",
       "      <th>1004</th>\n",
       "      <td>M</td>\n",
       "      <td>55.0</td>\n",
       "      <td>5.131094</td>\n",
       "      <td>62.0</td>\n",
       "      <td>6.800000</td>\n",
       "      <td>5.3</td>\n",
       "      <td>2.0</td>\n",
       "      <td>1.0</td>\n",
       "      <td>3.5</td>\n",
       "      <td>0.900000</td>\n",
       "      <td>30.1</td>\n",
       "      <td>Y</td>\n",
       "    </tr>\n",
       "    <tr>\n",
       "      <th>1005</th>\n",
       "      <td>M</td>\n",
       "      <td>55.0</td>\n",
       "      <td>4.800000</td>\n",
       "      <td>88.0</td>\n",
       "      <td>8.284155</td>\n",
       "      <td>5.7</td>\n",
       "      <td>4.0</td>\n",
       "      <td>0.9</td>\n",
       "      <td>3.3</td>\n",
       "      <td>1.800000</td>\n",
       "      <td>30.0</td>\n",
       "      <td>Y</td>\n",
       "    </tr>\n",
       "    <tr>\n",
       "      <th>1006</th>\n",
       "      <td>M</td>\n",
       "      <td>62.0</td>\n",
       "      <td>6.300000</td>\n",
       "      <td>82.0</td>\n",
       "      <td>6.700000</td>\n",
       "      <td>5.3</td>\n",
       "      <td>2.0</td>\n",
       "      <td>1.0</td>\n",
       "      <td>3.5</td>\n",
       "      <td>1.850595</td>\n",
       "      <td>30.1</td>\n",
       "      <td>Y</td>\n",
       "    </tr>\n",
       "    <tr>\n",
       "      <th>1007</th>\n",
       "      <td>F</td>\n",
       "      <td>57.0</td>\n",
       "      <td>4.100000</td>\n",
       "      <td>70.0</td>\n",
       "      <td>9.300000</td>\n",
       "      <td>5.3</td>\n",
       "      <td>3.3</td>\n",
       "      <td>1.0</td>\n",
       "      <td>1.4</td>\n",
       "      <td>1.300000</td>\n",
       "      <td>29.0</td>\n",
       "      <td>Y</td>\n",
       "    </tr>\n",
       "    <tr>\n",
       "      <th>1008</th>\n",
       "      <td>F</td>\n",
       "      <td>55.0</td>\n",
       "      <td>4.100000</td>\n",
       "      <td>34.0</td>\n",
       "      <td>13.900000</td>\n",
       "      <td>5.4</td>\n",
       "      <td>1.6</td>\n",
       "      <td>1.6</td>\n",
       "      <td>3.1</td>\n",
       "      <td>0.700000</td>\n",
       "      <td>33.0</td>\n",
       "      <td>Y</td>\n",
       "    </tr>\n",
       "  </tbody>\n",
       "</table>\n",
       "<p>1009 rows × 12 columns</p>\n",
       "</div>"
      ],
      "text/plain": [
       "     Gender   AGE      Urea    Cr      HbA1c  Chol   TG  HDL  LDL      VLDL  \\\n",
       "0         F  50.0  4.700000  46.0   4.900000   4.2  0.9  2.4  1.4  0.500000   \n",
       "1         M  26.0  4.500000  62.0   4.900000   3.7  1.4  1.1  2.1  0.600000   \n",
       "2         F  50.0  4.700000  46.0   4.900000   4.2  0.9  2.4  1.4  0.500000   \n",
       "3         F  50.0  4.700000  46.0   4.900000   4.2  0.9  2.4  1.4  0.500000   \n",
       "4         M  33.0  7.100000  46.0   4.900000   4.9  1.0  0.8  2.0  0.400000   \n",
       "...     ...   ...       ...   ...        ...   ...  ...  ...  ...       ...   \n",
       "1004      M  55.0  5.131094  62.0   6.800000   5.3  2.0  1.0  3.5  0.900000   \n",
       "1005      M  55.0  4.800000  88.0   8.284155   5.7  4.0  0.9  3.3  1.800000   \n",
       "1006      M  62.0  6.300000  82.0   6.700000   5.3  2.0  1.0  3.5  1.850595   \n",
       "1007      F  57.0  4.100000  70.0   9.300000   5.3  3.3  1.0  1.4  1.300000   \n",
       "1008      F  55.0  4.100000  34.0  13.900000   5.4  1.6  1.6  3.1  0.700000   \n",
       "\n",
       "       BMI CLASS  \n",
       "0     24.0     N  \n",
       "1     23.0     N  \n",
       "2     24.0     N  \n",
       "3     24.0     N  \n",
       "4     21.0     N  \n",
       "...    ...   ...  \n",
       "1004  30.1     Y  \n",
       "1005  30.0     Y  \n",
       "1006  30.1     Y  \n",
       "1007  29.0     Y  \n",
       "1008  33.0     Y  \n",
       "\n",
       "[1009 rows x 12 columns]"
      ]
     },
     "execution_count": 2,
     "metadata": {},
     "output_type": "execute_result"
    }
   ],
   "source": [
    "df = pd.read_csv(r\"D:\\DATA PELATIHAN\\Cleaned_data.csv\")\n",
    "\n",
    "df"
   ]
  },
  {
   "attachments": {},
   "cell_type": "markdown",
   "metadata": {},
   "source": [
    "## Quantum Support Vektor Machine"
   ]
  },
  {
   "cell_type": "code",
   "execution_count": 3,
   "metadata": {},
   "outputs": [],
   "source": [
    "features = df[[\"Urea\",\"Cr\", \"HbA1c\",\"Chol\", \"TG\", \"HDL\", \"LDL\",\"VLDL\", \"BMI\"]]\n",
    "labels = df[\"Gender\"]"
   ]
  },
  {
   "cell_type": "code",
   "execution_count": 4,
   "metadata": {},
   "outputs": [],
   "source": [
    "# Melakukan standarisasi fitur\n",
    "scaler = StandardScaler()\n",
    "features = scaler.fit_transform(features)"
   ]
  },
  {
   "cell_type": "code",
   "execution_count": 5,
   "metadata": {},
   "outputs": [],
   "source": [
    "# Melakukan encoding label menjadi bilangan bulat\n",
    "label_encoder = LabelEncoder()\n",
    "labels = label_encoder.fit_transform(labels)"
   ]
  },
  {
   "cell_type": "code",
   "execution_count": 6,
   "metadata": {},
   "outputs": [],
   "source": [
    "# Membagi dataset menjadi data latihan dan data uji\n",
    "train_features, test_features, train_labels, test_labels = train_test_split(features, labels, test_size=0.2, random_state=42)"
   ]
  },
  {
   "cell_type": "code",
   "execution_count": 7,
   "metadata": {},
   "outputs": [
    {
     "name": "stderr",
     "output_type": "stream",
     "text": [
      "C:\\Users\\Asani\\AppData\\Local\\Temp\\ipykernel_5368\\3673794160.py:5: DeprecationWarning: The class ``qiskit.utils.quantum_instance.QuantumInstance`` is deprecated as of qiskit-terra 0.24.0. It will be removed no earlier than 3 months after the release date. For code migration guidelines, visit https://qisk.it/qi_migration.\n",
      "  quantum_instance = QuantumInstance(backend)\n"
     ]
    }
   ],
   "source": [
    "# Menginisialisasi objek QuantumKernel\n",
    "feature_dim = len(train_features[0])\n",
    "feature_map = ZZFeatureMap(feature_dimension=feature_dim, reps=2)\n",
    "backend = Aer.get_backend('statevector_simulator')\n",
    "quantum_instance = QuantumInstance(backend)\n",
    "kernel = QuantumKernel(feature_map, quantum_instance=quantum_instance)"
   ]
  },
  {
   "cell_type": "code",
   "execution_count": 8,
   "metadata": {},
   "outputs": [
    {
     "name": "stderr",
     "output_type": "stream",
     "text": [
      "C:\\Users\\Asani\\AppData\\Local\\Temp\\ipykernel_5368\\4276740726.py:2: DeprecationWarning: The quantum_instance argument is deprecated as of version 0.5.0 and will be removed no sooner than 3 months after the release. Instead use the sampler argument.\n",
      "  vqc = VQC(optimizer=None, feature_map=feature_map, quantum_instance=quantum_instance)\n"
     ]
    }
   ],
   "source": [
    "# Menginisialisasi model VQC\n",
    "vqc = VQC(optimizer=None, feature_map=feature_map, quantum_instance=quantum_instance)"
   ]
  },
  {
   "cell_type": "code",
   "execution_count": null,
   "metadata": {},
   "outputs": [],
   "source": [
    "# Melatih model VQC\n",
    "vqc.fit(train_features, train_labels)\n",
    "\n",
    "# Memprediksi label dari data uji\n",
    "predictions = vqc.predict(test_features)\n",
    "\n",
    "# Melakukan decoding label menjadi Gender\n",
    "predicted_labels = label_encoder.inverse_transform(predictions)"
   ]
  },
  {
   "cell_type": "code",
   "execution_count": null,
   "metadata": {},
   "outputs": [],
   "source": [
    "# Menghitung akurasi prediksi\n",
    "accuracy = np.mean(predicted_labels == test_labels)\n",
    "print(\"Akurasi:\", accuracy)"
   ]
  },
  {
   "attachments": {},
   "cell_type": "markdown",
   "metadata": {},
   "source": [
    "## Vektor Support Machine Classic (VSMC)"
   ]
  },
  {
   "cell_type": "code",
   "execution_count": 9,
   "metadata": {},
   "outputs": [],
   "source": [
    "from sklearn.model_selection import train_test_split\n",
    "from sklearn.pipeline import Pipeline\n",
    "from sklearn.compose import ColumnTransformer\n",
    "\n",
    "from jcopml.pipeline import num_pipe, cat_pipe\n",
    "from jcopml.utils import save_model, load_model\n",
    "from jcopml.plot import plot_missing_value\n",
    "from jcopml.feature_importance import mean_score_decrease\n",
    "\n",
    "from sklearn.svm import SVR\n",
    "from sklearn.model_selection import GridSearchCV\n",
    "from jcopml.tuning import grid_search_params as gsp"
   ]
  },
  {
   "cell_type": "code",
   "execution_count": 10,
   "metadata": {},
   "outputs": [
    {
     "data": {
      "text/html": [
       "<div>\n",
       "<style scoped>\n",
       "    .dataframe tbody tr th:only-of-type {\n",
       "        vertical-align: middle;\n",
       "    }\n",
       "\n",
       "    .dataframe tbody tr th {\n",
       "        vertical-align: top;\n",
       "    }\n",
       "\n",
       "    .dataframe thead th {\n",
       "        text-align: right;\n",
       "    }\n",
       "</style>\n",
       "<table border=\"1\" class=\"dataframe\">\n",
       "  <thead>\n",
       "    <tr style=\"text-align: right;\">\n",
       "      <th></th>\n",
       "      <th>AGE</th>\n",
       "      <th>Urea</th>\n",
       "      <th>Cr</th>\n",
       "      <th>HbA1c</th>\n",
       "      <th>Chol</th>\n",
       "      <th>TG</th>\n",
       "      <th>HDL</th>\n",
       "      <th>LDL</th>\n",
       "      <th>VLDL</th>\n",
       "      <th>BMI</th>\n",
       "      <th>CLASS</th>\n",
       "    </tr>\n",
       "  </thead>\n",
       "  <tbody>\n",
       "    <tr>\n",
       "      <th>0</th>\n",
       "      <td>50.0</td>\n",
       "      <td>4.700000</td>\n",
       "      <td>46.0</td>\n",
       "      <td>4.900000</td>\n",
       "      <td>4.2</td>\n",
       "      <td>0.9</td>\n",
       "      <td>2.4</td>\n",
       "      <td>1.4</td>\n",
       "      <td>0.500000</td>\n",
       "      <td>24.0</td>\n",
       "      <td>N</td>\n",
       "    </tr>\n",
       "    <tr>\n",
       "      <th>1</th>\n",
       "      <td>26.0</td>\n",
       "      <td>4.500000</td>\n",
       "      <td>62.0</td>\n",
       "      <td>4.900000</td>\n",
       "      <td>3.7</td>\n",
       "      <td>1.4</td>\n",
       "      <td>1.1</td>\n",
       "      <td>2.1</td>\n",
       "      <td>0.600000</td>\n",
       "      <td>23.0</td>\n",
       "      <td>N</td>\n",
       "    </tr>\n",
       "    <tr>\n",
       "      <th>2</th>\n",
       "      <td>50.0</td>\n",
       "      <td>4.700000</td>\n",
       "      <td>46.0</td>\n",
       "      <td>4.900000</td>\n",
       "      <td>4.2</td>\n",
       "      <td>0.9</td>\n",
       "      <td>2.4</td>\n",
       "      <td>1.4</td>\n",
       "      <td>0.500000</td>\n",
       "      <td>24.0</td>\n",
       "      <td>N</td>\n",
       "    </tr>\n",
       "    <tr>\n",
       "      <th>3</th>\n",
       "      <td>50.0</td>\n",
       "      <td>4.700000</td>\n",
       "      <td>46.0</td>\n",
       "      <td>4.900000</td>\n",
       "      <td>4.2</td>\n",
       "      <td>0.9</td>\n",
       "      <td>2.4</td>\n",
       "      <td>1.4</td>\n",
       "      <td>0.500000</td>\n",
       "      <td>24.0</td>\n",
       "      <td>N</td>\n",
       "    </tr>\n",
       "    <tr>\n",
       "      <th>4</th>\n",
       "      <td>33.0</td>\n",
       "      <td>7.100000</td>\n",
       "      <td>46.0</td>\n",
       "      <td>4.900000</td>\n",
       "      <td>4.9</td>\n",
       "      <td>1.0</td>\n",
       "      <td>0.8</td>\n",
       "      <td>2.0</td>\n",
       "      <td>0.400000</td>\n",
       "      <td>21.0</td>\n",
       "      <td>N</td>\n",
       "    </tr>\n",
       "    <tr>\n",
       "      <th>...</th>\n",
       "      <td>...</td>\n",
       "      <td>...</td>\n",
       "      <td>...</td>\n",
       "      <td>...</td>\n",
       "      <td>...</td>\n",
       "      <td>...</td>\n",
       "      <td>...</td>\n",
       "      <td>...</td>\n",
       "      <td>...</td>\n",
       "      <td>...</td>\n",
       "      <td>...</td>\n",
       "    </tr>\n",
       "    <tr>\n",
       "      <th>1004</th>\n",
       "      <td>55.0</td>\n",
       "      <td>5.131094</td>\n",
       "      <td>62.0</td>\n",
       "      <td>6.800000</td>\n",
       "      <td>5.3</td>\n",
       "      <td>2.0</td>\n",
       "      <td>1.0</td>\n",
       "      <td>3.5</td>\n",
       "      <td>0.900000</td>\n",
       "      <td>30.1</td>\n",
       "      <td>Y</td>\n",
       "    </tr>\n",
       "    <tr>\n",
       "      <th>1005</th>\n",
       "      <td>55.0</td>\n",
       "      <td>4.800000</td>\n",
       "      <td>88.0</td>\n",
       "      <td>8.284155</td>\n",
       "      <td>5.7</td>\n",
       "      <td>4.0</td>\n",
       "      <td>0.9</td>\n",
       "      <td>3.3</td>\n",
       "      <td>1.800000</td>\n",
       "      <td>30.0</td>\n",
       "      <td>Y</td>\n",
       "    </tr>\n",
       "    <tr>\n",
       "      <th>1006</th>\n",
       "      <td>62.0</td>\n",
       "      <td>6.300000</td>\n",
       "      <td>82.0</td>\n",
       "      <td>6.700000</td>\n",
       "      <td>5.3</td>\n",
       "      <td>2.0</td>\n",
       "      <td>1.0</td>\n",
       "      <td>3.5</td>\n",
       "      <td>1.850595</td>\n",
       "      <td>30.1</td>\n",
       "      <td>Y</td>\n",
       "    </tr>\n",
       "    <tr>\n",
       "      <th>1007</th>\n",
       "      <td>57.0</td>\n",
       "      <td>4.100000</td>\n",
       "      <td>70.0</td>\n",
       "      <td>9.300000</td>\n",
       "      <td>5.3</td>\n",
       "      <td>3.3</td>\n",
       "      <td>1.0</td>\n",
       "      <td>1.4</td>\n",
       "      <td>1.300000</td>\n",
       "      <td>29.0</td>\n",
       "      <td>Y</td>\n",
       "    </tr>\n",
       "    <tr>\n",
       "      <th>1008</th>\n",
       "      <td>55.0</td>\n",
       "      <td>4.100000</td>\n",
       "      <td>34.0</td>\n",
       "      <td>13.900000</td>\n",
       "      <td>5.4</td>\n",
       "      <td>1.6</td>\n",
       "      <td>1.6</td>\n",
       "      <td>3.1</td>\n",
       "      <td>0.700000</td>\n",
       "      <td>33.0</td>\n",
       "      <td>Y</td>\n",
       "    </tr>\n",
       "  </tbody>\n",
       "</table>\n",
       "<p>1009 rows × 11 columns</p>\n",
       "</div>"
      ],
      "text/plain": [
       "       AGE      Urea    Cr      HbA1c  Chol   TG  HDL  LDL      VLDL   BMI  \\\n",
       "0     50.0  4.700000  46.0   4.900000   4.2  0.9  2.4  1.4  0.500000  24.0   \n",
       "1     26.0  4.500000  62.0   4.900000   3.7  1.4  1.1  2.1  0.600000  23.0   \n",
       "2     50.0  4.700000  46.0   4.900000   4.2  0.9  2.4  1.4  0.500000  24.0   \n",
       "3     50.0  4.700000  46.0   4.900000   4.2  0.9  2.4  1.4  0.500000  24.0   \n",
       "4     33.0  7.100000  46.0   4.900000   4.9  1.0  0.8  2.0  0.400000  21.0   \n",
       "...    ...       ...   ...        ...   ...  ...  ...  ...       ...   ...   \n",
       "1004  55.0  5.131094  62.0   6.800000   5.3  2.0  1.0  3.5  0.900000  30.1   \n",
       "1005  55.0  4.800000  88.0   8.284155   5.7  4.0  0.9  3.3  1.800000  30.0   \n",
       "1006  62.0  6.300000  82.0   6.700000   5.3  2.0  1.0  3.5  1.850595  30.1   \n",
       "1007  57.0  4.100000  70.0   9.300000   5.3  3.3  1.0  1.4  1.300000  29.0   \n",
       "1008  55.0  4.100000  34.0  13.900000   5.4  1.6  1.6  3.1  0.700000  33.0   \n",
       "\n",
       "     CLASS  \n",
       "0        N  \n",
       "1        N  \n",
       "2        N  \n",
       "3        N  \n",
       "4        N  \n",
       "...    ...  \n",
       "1004     Y  \n",
       "1005     Y  \n",
       "1006     Y  \n",
       "1007     Y  \n",
       "1008     Y  \n",
       "\n",
       "[1009 rows x 11 columns]"
      ]
     },
     "execution_count": 10,
     "metadata": {},
     "output_type": "execute_result"
    }
   ],
   "source": [
    "df.drop('Gender', axis=1, inplace=True)\n",
    "\n",
    "df"
   ]
  },
  {
   "attachments": {},
   "cell_type": "markdown",
   "metadata": {},
   "source": [
    "## EDA Data"
   ]
  },
  {
   "cell_type": "code",
   "execution_count": 11,
   "metadata": {},
   "outputs": [],
   "source": [
    "from sklearn.preprocessing import LabelEncoder\n",
    "\n",
    "# Menggunakan LabelEncoder\n",
    "le = LabelEncoder()\n",
    "df['CLASS'] = le.fit_transform(df['CLASS'])"
   ]
  },
  {
   "attachments": {},
   "cell_type": "markdown",
   "metadata": {},
   "source": [
    "## Splitting Data"
   ]
  },
  {
   "cell_type": "code",
   "execution_count": 12,
   "metadata": {},
   "outputs": [
    {
     "data": {
      "text/plain": [
       "((807, 10), (202, 10), (807,), (202,))"
      ]
     },
     "execution_count": 12,
     "metadata": {},
     "output_type": "execute_result"
    }
   ],
   "source": [
    "X_SVM = df.drop(columns=\"CLASS\")\n",
    "y_SVM =df.CLASS\n",
    "\n",
    "X_train, X_test, y_train, y_test = train_test_split(X_SVM, y_SVM, test_size=0.2, random_state=42)\n",
    "X_train.shape, X_test.shape, y_train.shape, y_test.shape"
   ]
  },
  {
   "attachments": {},
   "cell_type": "markdown",
   "metadata": {},
   "source": [
    "## Training Model"
   ]
  },
  {
   "cell_type": "code",
   "execution_count": 14,
   "metadata": {},
   "outputs": [],
   "source": [
    "preprocessor = ColumnTransformer([\n",
    "    ('numeric', num_pipe(), ['AGE', 'Urea', 'Cr', 'HbA1c', 'Chol', 'TG', 'HDL', 'LDL', 'VLDL', 'BMI']),\n",
    "])"
   ]
  },
  {
   "cell_type": "code",
   "execution_count": 15,
   "metadata": {},
   "outputs": [],
   "source": [
    "pipeline = Pipeline([\n",
    "    ('prep', preprocessor),\n",
    "    ('algo', SVR(max_iter=500))\n",
    "])"
   ]
  },
  {
   "cell_type": "code",
   "execution_count": 16,
   "metadata": {},
   "outputs": [
    {
     "name": "stdout",
     "output_type": "stream",
     "text": [
      "Fitting 3 folds for each of 49 candidates, totalling 147 fits\n",
      "{'algo__C': 10.0, 'algo__gamma': 0.001}\n",
      "0.7478919895511005 0.5904809581529442 0.7248478199215135\n"
     ]
    },
    {
     "name": "stderr",
     "output_type": "stream",
     "text": [
      "c:\\Users\\Asani\\AppData\\Local\\Programs\\Python\\Python311\\Lib\\site-packages\\sklearn\\svm\\_base.py:299: ConvergenceWarning: Solver terminated early (max_iter=500).  Consider pre-processing your data with StandardScaler or MinMaxScaler.\n",
      "  warnings.warn(\n"
     ]
    }
   ],
   "source": [
    "from sklearn.model_selection import GridSearchCV\n",
    "from jcopml.tuning import grid_search_params as gsp\n",
    "\n",
    "model = GridSearchCV(pipeline, gsp.svm_params, cv=3,  n_jobs=-1, verbose=1)\n",
    "model.fit(X_train, y_train)\n",
    "\n",
    "print(model.best_params_)\n",
    "print(model.score(X_train, y_train), model.best_score_, model.score(X_test, y_test))"
   ]
  },
  {
   "attachments": {},
   "cell_type": "markdown",
   "metadata": {},
   "source": [
    "Kesimpulan "
   ]
  },
  {
   "attachments": {},
   "cell_type": "markdown",
   "metadata": {},
   "source": [
    "## Tingkatkan performa Model\n",
    "- Menggunakan Feature Importance\n",
    "- Menggunakan Tunning Model\n",
    "- Menggunakan Polynomial"
   ]
  },
  {
   "attachments": {},
   "cell_type": "markdown",
   "metadata": {},
   "source": [
    "## Menggunakan Feature importance"
   ]
  },
  {
   "cell_type": "code",
   "execution_count": 71,
   "metadata": {},
   "outputs": [
    {
     "data": {
      "image/png": "[encoded data removed]",
      "text/plain": [
       "<Figure size 1500x500 with 1 Axes>"
      ]
     },
     "metadata": {},
     "output_type": "display_data"
    }
   ],
   "source": [
    "f_imp = mean_score_decrease(X_train, y_train, model, plot=True, topk=10)"
   ]
  },
  {
   "cell_type": "code",
   "execution_count": 22,
   "metadata": {},
   "outputs": [],
   "source": [
    "preprocessor = ColumnTransformer([\n",
    "    ('numeric', num_pipe(), ['AGE', 'Cr', 'HbA1c', 'Chol', 'BMI']),\n",
    "])"
   ]
  },
  {
   "cell_type": "code",
   "execution_count": 23,
   "metadata": {},
   "outputs": [],
   "source": [
    "pipeline = Pipeline([\n",
    "    ('prep', preprocessor),\n",
    "    ('algo', SVR(max_iter=500))\n",
    "])"
   ]
  },
  {
   "cell_type": "code",
   "execution_count": 24,
   "metadata": {},
   "outputs": [
    {
     "name": "stdout",
     "output_type": "stream",
     "text": [
      "Fitting 3 folds for each of 49 candidates, totalling 147 fits\n",
      "{'algo__C': 10.0, 'algo__gamma': 0.001}\n",
      "0.7023148715348304 0.5842120143515215 0.6932094885833469\n"
     ]
    },
    {
     "name": "stderr",
     "output_type": "stream",
     "text": [
      "c:\\Users\\Asani\\AppData\\Local\\Programs\\Python\\Python311\\Lib\\site-packages\\sklearn\\svm\\_base.py:299: ConvergenceWarning: Solver terminated early (max_iter=500).  Consider pre-processing your data with StandardScaler or MinMaxScaler.\n",
      "  warnings.warn(\n"
     ]
    }
   ],
   "source": [
    "model = GridSearchCV(pipeline, gsp.svm_params, cv=3,  n_jobs=-1, verbose=1)\n",
    "model.fit(X_train, y_train)\n",
    "\n",
    "print(model.best_params_)\n",
    "print(model.score(X_train, y_train), model.best_score_, model.score(X_test, y_test))"
   ]
  },
  {
   "attachments": {},
   "cell_type": "markdown",
   "metadata": {},
   "source": [
    "## Menggunakan polinomial dan Scalling pada model"
   ]
  },
  {
   "cell_type": "code",
   "execution_count": 49,
   "metadata": {},
   "outputs": [
    {
     "name": "stdout",
     "output_type": "stream",
     "text": [
      "Fitting 3 folds for each of 49 candidates, totalling 147 fits\n",
      "{'algo__C': 1.0, 'algo__gamma': 10.0}\n",
      "0.8460451232122621 0.7570188914801163 0.8281491952616509\n"
     ]
    },
    {
     "name": "stderr",
     "output_type": "stream",
     "text": [
      "c:\\Users\\Asani\\AppData\\Local\\Programs\\Python\\Python311\\Lib\\site-packages\\sklearn\\svm\\_base.py:299: ConvergenceWarning: Solver terminated early (max_iter=500).  Consider pre-processing your data with StandardScaler or MinMaxScaler.\n",
      "  warnings.warn(\n"
     ]
    }
   ],
   "source": [
    "preprocessor = ColumnTransformer([\n",
    "    ('numeric', num_pipe(poly=2, scaling='maxabs'), ['AGE', 'Cr', 'HbA1c', 'Chol', 'BMI']),\n",
    "])\n",
    "\n",
    "pipeline = Pipeline([\n",
    "    ('prep', preprocessor),\n",
    "    ('algo', SVR(max_iter=500))\n",
    "])\n",
    "\n",
    "model = GridSearchCV(pipeline, gsp.svm_params, cv=3, n_jobs=-1, verbose=1)\n",
    "model.fit(X_train, y_train)\n",
    "\n",
    "print(model.best_params_)\n",
    "print(model.score(X_train, y_train), model.best_score_, model.score(X_test, y_test))"
   ]
  }
 ],
 "metadata": {
  "kernelspec": {
   "display_name": "Python 3",
   "language": "python",
   "name": "python3"
  },
  "language_info": {
   "codemirror_mode": {
    "name": "ipython",
    "version": 3
   },
   "file_extension": ".py",
   "mimetype": "text/x-python",
   "name": "python",
   "nbconvert_exporter": "python",
   "pygments_lexer": "ipython3",
   "version": "3.11.1"
  },
  "orig_nbformat": 4
 },
 "nbformat": 4,
 "nbformat_minor": 2
}
